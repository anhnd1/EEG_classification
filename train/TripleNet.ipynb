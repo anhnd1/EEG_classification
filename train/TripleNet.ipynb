{
 "cells": [
  {
   "cell_type": "code",
   "execution_count": 1,
   "metadata": {},
   "outputs": [],
   "source": [
    "import pickle\n",
    "import numpy as np\n",
    "import torch\n",
    "import torch.nn as nn\n",
    "import torch.optim as optim\n",
    "import torch.nn.functional as F\n",
    "from torch.utils.data import DataLoader\n",
    "import pytorch_metric_learning.losses as pml_losses"
   ]
  },
  {
   "cell_type": "code",
   "execution_count": 2,
   "metadata": {},
   "outputs": [],
   "source": [
    "with open('eeg/digit/data.pkl', 'rb') as f:\n",
    "\tdata = pickle.load(f, encoding='latin1')"
   ]
  },
  {
   "cell_type": "code",
   "execution_count": 3,
   "metadata": {},
   "outputs": [],
   "source": [
    "x_eval = data['x_train'][:4000]\n",
    "y_eval = data['y_train'][:4000]\n",
    "x_train = data['x_train'][4000:]\n",
    "y_train = data['y_train'][4000:]\n",
    "x_test = data['x_test']\n",
    "y_test = data['y_test']"
   ]
  },
  {
   "cell_type": "code",
   "execution_count": 4,
   "metadata": {},
   "outputs": [],
   "source": [
    "class EEGDataset(torch.utils.data.Dataset):\n",
    "\tdef __init__(self, data, labels):\n",
    "\t\tself.data = data\n",
    "\t\tself.labels = labels\n",
    "\t\n",
    "\tdef __len__(self):\n",
    "\t\treturn len(self.data)\n",
    "\t\n",
    "\tdef __getitem__(self, idx):\n",
    "\t\treturn torch.tensor(self.data[idx], dtype=torch.float32), torch.tensor(self.labels[idx], dtype=torch.float32)"
   ]
  },
  {
   "cell_type": "code",
   "execution_count": 5,
   "metadata": {},
   "outputs": [],
   "source": [
    "class LSTM(nn.Module):\n",
    "    def __init__(self, num_classes, input_size, hidden_size, num_layers):\n",
    "        super(LSTM, self).__init__()\n",
    "        self.bn1 = nn.BatchNorm2d(14)\n",
    "        self.lstm = nn.LSTM(\n",
    "            input_size=input_size, \n",
    "            hidden_size=hidden_size, \n",
    "            num_layers=num_layers, \n",
    "            batch_first=True\n",
    "        )\n",
    "        self.fc = nn.Linear(hidden_size, num_classes)\n",
    "        \n",
    "    def forward(self, x):\n",
    "        \"\"\"\n",
    "        Shape of x: (N, T, C) \n",
    "        N: batch_size, T: seq_len(time), C: input_size(features/channels)\n",
    "        \"\"\"\n",
    "        x = self.bn1(x)\n",
    "        x = x.squeeze()\n",
    "        x = x.permute(0, 2, 1)\n",
    "        lstm_out, _ = self.lstm(x)\n",
    "        logits = self.fc(lstm_out[:, -1, :])\n",
    "        return logits"
   ]
  },
  {
   "cell_type": "code",
   "execution_count": 6,
   "metadata": {},
   "outputs": [],
   "source": [
    "device = torch.device('cuda' if torch.cuda.is_available() else 'cpu')"
   ]
  },
  {
   "cell_type": "code",
   "execution_count": 7,
   "metadata": {},
   "outputs": [],
   "source": [
    "train_loader = DataLoader(EEGDataset(x_train, y_train), batch_size=64, shuffle=True)\n",
    "eval_loader = DataLoader(EEGDataset(x_eval, y_eval), batch_size=64, shuffle=False)\n",
    "test_loader = DataLoader(EEGDataset(x_test, y_test), batch_size=64, shuffle=False)"
   ]
  },
  {
   "cell_type": "code",
   "execution_count": 8,
   "metadata": {},
   "outputs": [],
   "source": [
    "model = LSTM(10, 32, 128, 2).to(device)\n",
    "criterion = nn.CrossEntropyLoss()\n",
    "optimizer = torch.optim.Adam(model.parameters(), lr=0.005)\n",
    "scheduler = optim.lr_scheduler.StepLR(optimizer, step_size=1, gamma=0.9)"
   ]
  },
  {
   "cell_type": "code",
   "execution_count": 9,
   "metadata": {},
   "outputs": [],
   "source": [
    "def train(model, loader, optimizer):\n",
    "\tmodel.train()\n",
    "\ttotal_loss = 0.0\n",
    "\tfor (x, y) in loader:\n",
    "\t\tx, y = x.to(device), y.to(device)\n",
    "\t\toptimizer.zero_grad()\n",
    "\t\ty_pred = model(x)\n",
    "\t\tloss = criterion(y_pred, y.argmax(dim=1))\n",
    "\t\tloss.backward()\n",
    "\t\toptimizer.step()\n",
    "\t\ttotal_loss += loss.item()\n",
    "\treturn total_loss / len(loader)\n",
    "\n",
    "def evaluate(model, loader):\n",
    "\tmodel.eval()\n",
    "\ttotal_loss = 0.0\n",
    "\tcorrect = 0\n",
    "\ttotal = 0\n",
    "\twith torch.no_grad():\n",
    "\t\tfor (x, y) in loader:\n",
    "\t\t\tx, y = x.to(device), y.to(device)\n",
    "\t\t\ty_pred = model(x)\n",
    "\t\t\tloss = criterion(y_pred, y.argmax(dim=1))\n",
    "\t\t\ttotal_loss += loss.item()\n",
    "\t\t\t_, predicted = y_pred.max(1)\n",
    "\t\t\tcorrect += predicted.eq(y.argmax(dim=1)).sum().item()\n",
    "\t\t\ttotal += y.size(0)\n",
    "\treturn total_loss / len(loader), correct / total"
   ]
  },
  {
   "cell_type": "code",
   "execution_count": 10,
   "metadata": {},
   "outputs": [
    {
     "name": "stdout",
     "output_type": "stream",
     "text": [
      "Epoch 0, Train Loss: 1.8238, Eval Loss: 1.4408, Eval Acc: 0.5030, Test Loss: 2.0237, Test Acc: 0.3391\n",
      "Epoch 1, Train Loss: 1.3076, Eval Loss: 1.0357, Eval Acc: 0.6767, Test Loss: 1.8265, Test Acc: 0.4502\n",
      "Epoch 2, Train Loss: 0.9543, Eval Loss: 0.6379, Eval Acc: 0.8095, Test Loss: 1.6281, Test Acc: 0.5401\n",
      "Epoch 3, Train Loss: 0.7087, Eval Loss: 0.3717, Eval Acc: 0.8938, Test Loss: 1.5109, Test Acc: 0.6179\n",
      "Epoch 4, Train Loss: 0.5058, Eval Loss: 0.2069, Eval Acc: 0.9417, Test Loss: 1.4263, Test Acc: 0.6693\n",
      "Epoch 5, Train Loss: 0.4073, Eval Loss: 0.1549, Eval Acc: 0.9517, Test Loss: 1.3323, Test Acc: 0.6895\n",
      "Epoch 6, Train Loss: 0.3171, Eval Loss: 0.1659, Eval Acc: 0.9535, Test Loss: 1.4954, Test Acc: 0.6755\n",
      "Epoch 7, Train Loss: 0.2562, Eval Loss: 0.1033, Eval Acc: 0.9730, Test Loss: 1.4243, Test Acc: 0.6985\n",
      "Epoch 8, Train Loss: 0.2228, Eval Loss: 0.1253, Eval Acc: 0.9647, Test Loss: 1.4875, Test Acc: 0.6957\n",
      "Epoch 9, Train Loss: 0.2129, Eval Loss: 0.1123, Eval Acc: 0.9700, Test Loss: 1.4807, Test Acc: 0.7058\n",
      "Epoch 10, Train Loss: 0.1828, Eval Loss: 0.0723, Eval Acc: 0.9748, Test Loss: 1.4809, Test Acc: 0.7178\n",
      "Epoch 11, Train Loss: 0.1660, Eval Loss: 0.0528, Eval Acc: 0.9830, Test Loss: 1.4646, Test Acc: 0.7260\n",
      "Epoch 12, Train Loss: 0.1560, Eval Loss: 0.0487, Eval Acc: 0.9862, Test Loss: 1.4419, Test Acc: 0.7265\n",
      "Epoch 13, Train Loss: 0.1564, Eval Loss: 0.1107, Eval Acc: 0.9680, Test Loss: 1.6034, Test Acc: 0.6863\n",
      "Epoch 14, Train Loss: 0.1408, Eval Loss: 0.0565, Eval Acc: 0.9858, Test Loss: 1.4990, Test Acc: 0.7270\n",
      "Epoch 15, Train Loss: 0.1432, Eval Loss: 0.0451, Eval Acc: 0.9862, Test Loss: 1.4555, Test Acc: 0.7283\n",
      "Epoch 16, Train Loss: 0.1262, Eval Loss: 0.0424, Eval Acc: 0.9890, Test Loss: 1.5086, Test Acc: 0.7203\n",
      "Epoch 17, Train Loss: 0.1269, Eval Loss: 0.0400, Eval Acc: 0.9875, Test Loss: 1.5258, Test Acc: 0.7244\n",
      "Epoch 18, Train Loss: 0.1262, Eval Loss: 0.0483, Eval Acc: 0.9862, Test Loss: 1.4856, Test Acc: 0.7343\n",
      "Epoch 19, Train Loss: 0.1130, Eval Loss: 0.0192, Eval Acc: 0.9952, Test Loss: 1.5110, Test Acc: 0.7354\n"
     ]
    }
   ],
   "source": [
    "for epoch in range(20):\n",
    "\ttrain_loss = train(model, train_loader, optimizer)\n",
    "\teval_loss, eval_acc = evaluate(model, eval_loader)\n",
    "\ttest_loss, test_acc = evaluate(model, test_loader)\n",
    "\tprint(f'Epoch {epoch}, Train Loss: {train_loss:.4f}, Eval Loss: {eval_loss:.4f}, Eval Acc: {eval_acc:.4f}, Test Loss: {test_loss:.4f}, Test Acc: {test_acc:.4f}')"
   ]
  },
  {
   "cell_type": "code",
   "execution_count": 11,
   "metadata": {},
   "outputs": [],
   "source": [
    "# Save model\n",
    "torch.save(model.state_dict(), 'eeg_lstm.pth')"
   ]
  },
  {
   "cell_type": "code",
   "execution_count": null,
   "metadata": {},
   "outputs": [],
   "source": []
  }
 ],
 "metadata": {
  "kernelspec": {
   "display_name": "base",
   "language": "python",
   "name": "python3"
  },
  "language_info": {
   "codemirror_mode": {
    "name": "ipython",
    "version": 3
   },
   "file_extension": ".py",
   "mimetype": "text/x-python",
   "name": "python",
   "nbconvert_exporter": "python",
   "pygments_lexer": "ipython3",
   "version": "3.10.11"
  }
 },
 "nbformat": 4,
 "nbformat_minor": 2
}
